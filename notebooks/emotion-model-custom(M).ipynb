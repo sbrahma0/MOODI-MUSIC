{
 "cells": [
  {
   "cell_type": "code",
   "execution_count": 2,
   "metadata": {},
   "outputs": [
    {
     "name": "stderr",
     "output_type": "stream",
     "text": [
      "Using TensorFlow backend.\n"
     ]
    }
   ],
   "source": [
    "import pandas as pd\n",
    "from matplotlib import pyplot\n",
    "from math import sqrt \n",
    "import numpy as np \n",
    "import scipy.misc \n",
    "import tensorflow as tf\n",
    "from tensorflow.compat.v1 import ConfigProto\n",
    "from tensorflow.compat.v1 import InteractiveSession\n",
    "\n",
    "config = ConfigProto()\n",
    "config.gpu_options.allow_growth = True\n",
    "session = InteractiveSession(config=config)\n",
    "from keras.utils import np_utils\n",
    "from keras.preprocessing.image import ImageDataGenerator \n",
    "from keras.utils import plot_model\n",
    "from keras.models import Model\n",
    "from keras.layers import Input, Dense, Flatten, Dropout, BatchNormalization\n",
    "from keras.layers.convolutional import Conv2D\n",
    "from keras.layers.pooling import MaxPooling2D\n",
    "from keras.layers.merge import concatenate\n",
    "from keras.optimizers import Adam, SGD\n",
    "from keras.regularizers import l1, l2\n",
    "from matplotlib import pyplot as plt\n",
    "from sklearn.metrics import confusion_matrix\n",
    "import itertools\n",
    "%matplotlib inline"
   ]
  },
  {
   "cell_type": "code",
   "execution_count": 3,
   "metadata": {},
   "outputs": [
    {
     "name": "stdout",
     "output_type": "stream",
     "text": [
      "2.1.0\n"
     ]
    }
   ],
   "source": [
    "print(tf.__version__)"
   ]
  },
  {
   "cell_type": "code",
   "execution_count": 4,
   "metadata": {},
   "outputs": [
    {
     "name": "stdout",
     "output_type": "stream",
     "text": [
      "WARNING:tensorflow:From <ipython-input-4-d8cd39b22d9f>:1: is_gpu_available (from tensorflow.python.framework.test_util) is deprecated and will be removed in a future version.\n",
      "Instructions for updating:\n",
      "Use `tf.config.list_physical_devices('GPU')` instead.\n",
      "True\n",
      "True\n"
     ]
    }
   ],
   "source": [
    "print(tf.test.is_gpu_available())\n",
    "print(tf.test.is_built_with_cuda())"
   ]
  },
  {
   "cell_type": "code",
   "execution_count": 5,
   "metadata": {},
   "outputs": [
    {
     "name": "stdout",
     "output_type": "stream",
     "text": [
      "[name: \"/device:CPU:0\"\n",
      "device_type: \"CPU\"\n",
      "memory_limit: 268435456\n",
      "locality {\n",
      "}\n",
      "incarnation: 4379767950448482269\n",
      ", name: \"/device:XLA_CPU:0\"\n",
      "device_type: \"XLA_CPU\"\n",
      "memory_limit: 17179869184\n",
      "locality {\n",
      "}\n",
      "incarnation: 12630488602863646621\n",
      "physical_device_desc: \"device: XLA_CPU device\"\n",
      ", name: \"/device:XLA_GPU:0\"\n",
      "device_type: \"XLA_GPU\"\n",
      "memory_limit: 17179869184\n",
      "locality {\n",
      "}\n",
      "incarnation: 945725468322147347\n",
      "physical_device_desc: \"device: XLA_GPU device\"\n",
      ", name: \"/device:GPU:0\"\n",
      "device_type: \"GPU\"\n",
      "memory_limit: 224722944\n",
      "locality {\n",
      "  bus_id: 1\n",
      "  links {\n",
      "  }\n",
      "}\n",
      "incarnation: 347620850863728126\n",
      "physical_device_desc: \"device: 0, name: Tesla K80, pci bus id: 0000:00:1e.0, compute capability: 3.7\"\n",
      "]\n"
     ]
    }
   ],
   "source": [
    "from tensorflow.python.client import device_lib\n",
    "print(device_lib.list_local_devices())"
   ]
  },
  {
   "cell_type": "code",
   "execution_count": 6,
   "metadata": {},
   "outputs": [],
   "source": [
    "#config = tf.compat.v1.ConfigProto()\n",
    "#config.gpu_options.allow_growth = True\n",
    "#sess = tf.compat.v1.Session(config=config)"
   ]
  },
  {
   "cell_type": "code",
   "execution_count": 7,
   "metadata": {},
   "outputs": [
    {
     "data": {
      "text/html": [
       "<div>\n",
       "<style scoped>\n",
       "    .dataframe tbody tr th:only-of-type {\n",
       "        vertical-align: middle;\n",
       "    }\n",
       "\n",
       "    .dataframe tbody tr th {\n",
       "        vertical-align: top;\n",
       "    }\n",
       "\n",
       "    .dataframe thead th {\n",
       "        text-align: right;\n",
       "    }\n",
       "</style>\n",
       "<table border=\"1\" class=\"dataframe\">\n",
       "  <thead>\n",
       "    <tr style=\"text-align: right;\">\n",
       "      <th></th>\n",
       "      <th>emotion</th>\n",
       "      <th>pixels</th>\n",
       "      <th>Usage</th>\n",
       "    </tr>\n",
       "  </thead>\n",
       "  <tbody>\n",
       "    <tr>\n",
       "      <th>0</th>\n",
       "      <td>0</td>\n",
       "      <td>70 80 82 72 58 58 60 63 54 58 60 48 89 115 121...</td>\n",
       "      <td>Training</td>\n",
       "    </tr>\n",
       "    <tr>\n",
       "      <th>1</th>\n",
       "      <td>0</td>\n",
       "      <td>151 150 147 155 148 133 111 140 170 174 182 15...</td>\n",
       "      <td>Training</td>\n",
       "    </tr>\n",
       "    <tr>\n",
       "      <th>2</th>\n",
       "      <td>2</td>\n",
       "      <td>231 212 156 164 174 138 161 173 182 200 106 38...</td>\n",
       "      <td>Training</td>\n",
       "    </tr>\n",
       "    <tr>\n",
       "      <th>3</th>\n",
       "      <td>4</td>\n",
       "      <td>24 32 36 30 32 23 19 20 30 41 21 22 32 34 21 1...</td>\n",
       "      <td>Training</td>\n",
       "    </tr>\n",
       "    <tr>\n",
       "      <th>4</th>\n",
       "      <td>6</td>\n",
       "      <td>4 0 0 0 0 0 0 0 0 0 0 0 3 15 23 28 48 50 58 84...</td>\n",
       "      <td>Training</td>\n",
       "    </tr>\n",
       "  </tbody>\n",
       "</table>\n",
       "</div>"
      ],
      "text/plain": [
       "   emotion                                             pixels     Usage\n",
       "0        0  70 80 82 72 58 58 60 63 54 58 60 48 89 115 121...  Training\n",
       "1        0  151 150 147 155 148 133 111 140 170 174 182 15...  Training\n",
       "2        2  231 212 156 164 174 138 161 173 182 200 106 38...  Training\n",
       "3        4  24 32 36 30 32 23 19 20 30 41 21 22 32 34 21 1...  Training\n",
       "4        6  4 0 0 0 0 0 0 0 0 0 0 0 3 15 23 28 48 50 58 84...  Training"
      ]
     },
     "execution_count": 7,
     "metadata": {},
     "output_type": "execute_result"
    }
   ],
   "source": [
    "data= pd.read_csv('FER - EMOTION/fer2013.csv')\n",
    "data.head()"
   ]
  },
  {
   "cell_type": "code",
   "execution_count": 8,
   "metadata": {},
   "outputs": [
    {
     "data": {
      "text/plain": [
       "3    8989\n",
       "6    6198\n",
       "4    6077\n",
       "2    5121\n",
       "0    4953\n",
       "5    4002\n",
       "1     547\n",
       "Name: emotion, dtype: int64"
      ]
     },
     "execution_count": 8,
     "metadata": {},
     "output_type": "execute_result"
    }
   ],
   "source": [
    "data.emotion.value_counts()\n",
    "#data.values.shape"
   ]
  },
  {
   "cell_type": "code",
   "execution_count": 9,
   "metadata": {},
   "outputs": [
    {
     "data": {
      "text/plain": [
       "Training       28709\n",
       "PublicTest      3589\n",
       "PrivateTest     3589\n",
       "Name: Usage, dtype: int64"
      ]
     },
     "execution_count": 9,
     "metadata": {},
     "output_type": "execute_result"
    }
   ],
   "source": [
    "data.Usage.value_counts() "
   ]
  },
  {
   "cell_type": "code",
   "execution_count": 10,
   "metadata": {},
   "outputs": [],
   "source": [
    "emotion_labels = [\"Angry\", \"Disgust\", \"Fear\", \"Happy\", \"Sad\", \"Surprise\", \"Neutral\"]\n",
    "classes=np.array((\"Angry\", \"Disgust\", \"Fear\", \"Happy\", \"Sad\", \"Surprise\", \"Neutral\"))"
   ]
  },
  {
   "cell_type": "code",
   "execution_count": 11,
   "metadata": {},
   "outputs": [
    {
     "name": "stdout",
     "output_type": "stream",
     "text": [
      "48 48\n"
     ]
    }
   ],
   "source": [
    "depth = 1\n",
    "height = int(sqrt(len(data.pixels[0].split()))) \n",
    "width = int(height)\n",
    "print(height,width)"
   ]
  },
  {
   "cell_type": "code",
   "execution_count": 12,
   "metadata": {},
   "outputs": [
    {
     "data": {
      "text/plain": [
       "\"\\nfor i in range(0, 6): \\n    array = np.mat(data.pixels[i]).reshape(height, width) \\n    pyplot.imshow(X_batch[i].reshape(48, 48), cmap=pyplot.get_cmap('gray'))\\n    #image = array_to_img(array) \\n    #display(image)\\n    #plt.imshow(image)\\n    #print(emotion_labels[data.emotion[i]])\\n\""
      ]
     },
     "execution_count": 12,
     "metadata": {},
     "output_type": "execute_result"
    }
   ],
   "source": [
    "'''\n",
    "for i in range(0, 6): \n",
    "    array = np.mat(data.pixels[i]).reshape(height, width) \n",
    "    pyplot.imshow(X_batch[i].reshape(48, 48), cmap=pyplot.get_cmap('gray'))\n",
    "    #image = array_to_img(array) \n",
    "    #display(image)\n",
    "    #plt.imshow(image)\n",
    "    #print(emotion_labels[data.emotion[i]])\n",
    "'''"
   ]
  },
  {
   "cell_type": "code",
   "execution_count": 13,
   "metadata": {},
   "outputs": [],
   "source": [
    "train_set = data[(data.Usage == 'Training')] \n",
    "val_set = data[(data.Usage == 'PublicTest')]\n",
    "test_set = data[(data.Usage == 'PrivateTest')] \n",
    "X_train = np.array(list(map(str.split, train_set.pixels)), np.float32) \n",
    "X_val = np.array(list(map(str.split, val_set.pixels)), np.float32) \n",
    "X_test = np.array(list(map(str.split, test_set.pixels)), np.float32) \n",
    "X_train = X_train.reshape(X_train.shape[0], 48, 48, 1) \n",
    "X_val = X_val.reshape(X_val.shape[0], 48, 48, 1)\n",
    "X_test = X_test.reshape(X_test.shape[0], 48, 48, 1)"
   ]
  },
  {
   "cell_type": "code",
   "execution_count": 14,
   "metadata": {},
   "outputs": [],
   "source": [
    "num_classes = 7\n",
    "num_train = X_train.shape[0]\n",
    "num_val = X_val.shape[0]\n",
    "num_test = X_test.shape[0]"
   ]
  },
  {
   "cell_type": "code",
   "execution_count": 15,
   "metadata": {},
   "outputs": [],
   "source": [
    "y_train = train_set.emotion\n",
    "y_train = tf.keras.utils.to_categorical(y_train, num_classes) \n",
    "y_val = val_set.emotion \n",
    "y_val = tf.keras.utils.to_categorical(y_val, num_classes) \n",
    "y_test = test_set.emotion \n",
    "y_test = tf.keras.utils.to_categorical(y_test, num_classes) "
   ]
  },
  {
   "cell_type": "code",
   "execution_count": 16,
   "metadata": {},
   "outputs": [
    {
     "name": "stdout",
     "output_type": "stream",
     "text": [
      "(28709, 48, 48, 1) (3589, 48, 48, 1)\n"
     ]
    }
   ],
   "source": [
    "print(X_train.shape, X_val.shape)"
   ]
  },
  {
   "cell_type": "code",
   "execution_count": 16,
   "metadata": {},
   "outputs": [],
   "source": [
    "datagen = ImageDataGenerator( \n",
    "    rescale=1./255,\n",
    "    rotation_range = 10,\n",
    "    horizontal_flip = True,\n",
    "    width_shift_range=0.1,\n",
    "    height_shift_range=0.1,\n",
    "    fill_mode = 'nearest')\n",
    "\n",
    "testgen = ImageDataGenerator( \n",
    "    rescale=1./255\n",
    "    )\n",
    "datagen.fit(X_train)\n",
    "batch_size = 64"
   ]
  },
  {
   "cell_type": "code",
   "execution_count": 17,
   "metadata": {},
   "outputs": [
    {
     "data": {
      "image/png": "[encoded data removed]",
      "text/plain": [
       "<Figure size 432x288 with 9 Axes>"
      ]
     },
     "metadata": {
      "needs_background": "light"
     },
     "output_type": "display_data"
    }
   ],
   "source": [
    "# For plotting purpose\n",
    "for X_batch, y_batch in datagen.flow(X_train, y_train, batch_size=9):\n",
    "    for i in range(0, 9): \n",
    "        pyplot.axis('off') \n",
    "        pyplot.subplot(330 + 1 + i) \n",
    "        pyplot.imshow(X_batch[i].reshape(48, 48), cmap=pyplot.get_cmap('gray'))\n",
    "    pyplot.axis('off') \n",
    "    pyplot.show() \n",
    "    break "
   ]
  },
  {
   "cell_type": "code",
   "execution_count": 18,
   "metadata": {},
   "outputs": [],
   "source": [
    "train_flow = datagen.flow(X_train, y_train, batch_size=batch_size) \n",
    "val_flow = testgen.flow(X_val, y_val, batch_size=batch_size) \n",
    "tes_flow = testgen.flow(X_test, y_test, batch_size=batch_size) "
   ]
  },
  {
   "cell_type": "code",
   "execution_count": 19,
   "metadata": {},
   "outputs": [],
   "source": [
    "#train_flow = tf.keras.preprocessing.image.NumpyArrayIterator(X_train, y_train, datagen,batch_size=batch_size)\n",
    "#val_flow = tf.keras.preprocessing.image.NumpyArrayIterator(X_val, y_val, datagen, batch_size=batch_size) \n",
    "#tes_flow = tf.keras.preprocessing.image.NumpyArrayIterator(X_test, y_test, datagen, batch_size=batch_size) "
   ]
  },
  {
   "cell_type": "code",
   "execution_count": 20,
   "metadata": {},
   "outputs": [],
   "source": [
    "#print(type(train_flow))"
   ]
  },
  {
   "cell_type": "code",
   "execution_count": 21,
   "metadata": {},
   "outputs": [
    {
     "name": "stdout",
     "output_type": "stream",
     "text": [
      "(28709, 48, 48, 1)\n",
      "(28709, 7)\n"
     ]
    }
   ],
   "source": [
    "print(X_train.shape)\n",
    "print(y_train.shape)"
   ]
  },
  {
   "cell_type": "code",
   "execution_count": 22,
   "metadata": {},
   "outputs": [
    {
     "data": {
      "text/plain": [
       "28709"
      ]
     },
     "execution_count": 22,
     "metadata": {},
     "output_type": "execute_result"
    }
   ],
   "source": [
    "len(X_train)"
   ]
  },
  {
   "cell_type": "code",
   "execution_count": 23,
   "metadata": {},
   "outputs": [],
   "source": [
    "def emo_Model(input_shape=(48,48,1)):\n",
    "    # first input model\n",
    "    visible = Input(shape=input_shape, name='input')\n",
    "    num_classes = 7\n",
    "    #the 1-st block\n",
    "    conv1_1 = Conv2D(32, kernel_size=3, activation='relu', padding='same', name = 'conv1_1')(visible)\n",
    "    conv1_2 = Conv2D(64, kernel_size=3, activation='relu', padding='same', name = 'conv1_2')(conv1_1)\n",
    "    pool1_1 = MaxPooling2D(pool_size=(2,2), name = 'pool1_1')(conv1_2)\n",
    "    drop1_1 = Dropout(0.25, name = 'drop1_1')(pool1_1)\n",
    "\n",
    "    #the 2-nd block\n",
    "    conv2_1 = Conv2D(128, kernel_size=3, activation='relu', padding='same', name = 'conv2_1')(drop1_1)\n",
    "    pool2_1 = MaxPooling2D(pool_size=(2,2), name = 'pool2_1')(conv2_1)\n",
    "    conv2_2 = Conv2D(128, kernel_size=3, activation='relu', padding='same', name = 'conv2_2')(pool2_1)\n",
    "    pool2_2 = MaxPooling2D(pool_size=(2,2), name = 'pool2_2')(conv2_2)\n",
    "    drop2_1 = Dropout(0.25, name = 'drop2_1')(pool2_2)\n",
    "\n",
    "    #Flatten and output\n",
    "    flatten = Flatten(name = 'flatten')(drop2_1)\n",
    "    dense3_1 = Dense(1024, activation='relu', name='dense3_1')(flatten)\n",
    "    drop3_1 = Dropout(0.5, name='drop3_1')(dense3_1)\n",
    "    ouput = Dense(num_classes, activation='softmax', name = 'output')(drop3_1)\n",
    "\n",
    "    # create model \n",
    "    model = Model(inputs =visible, outputs = ouput)\n",
    "    # summary layers\n",
    "    print(model.summary())\n",
    "    \n",
    "    return model"
   ]
  },
  {
   "cell_type": "code",
   "execution_count": 24,
   "metadata": {
    "scrolled": false
   },
   "outputs": [
    {
     "name": "stdout",
     "output_type": "stream",
     "text": [
      "Model: \"model_1\"\n",
      "_________________________________________________________________\n",
      "Layer (type)                 Output Shape              Param #   \n",
      "=================================================================\n",
      "input (InputLayer)           (None, 48, 48, 1)         0         \n",
      "_________________________________________________________________\n",
      "conv1_1 (Conv2D)             (None, 48, 48, 32)        320       \n",
      "_________________________________________________________________\n",
      "conv1_2 (Conv2D)             (None, 48, 48, 64)        18496     \n",
      "_________________________________________________________________\n",
      "pool1_1 (MaxPooling2D)       (None, 24, 24, 64)        0         \n",
      "_________________________________________________________________\n",
      "drop1_1 (Dropout)            (None, 24, 24, 64)        0         \n",
      "_________________________________________________________________\n",
      "conv2_1 (Conv2D)             (None, 24, 24, 128)       73856     \n",
      "_________________________________________________________________\n",
      "pool2_1 (MaxPooling2D)       (None, 12, 12, 128)       0         \n",
      "_________________________________________________________________\n",
      "conv2_2 (Conv2D)             (None, 12, 12, 128)       147584    \n",
      "_________________________________________________________________\n",
      "pool2_2 (MaxPooling2D)       (None, 6, 6, 128)         0         \n",
      "_________________________________________________________________\n",
      "drop2_1 (Dropout)            (None, 6, 6, 128)         0         \n",
      "_________________________________________________________________\n",
      "flatten (Flatten)            (None, 4608)              0         \n",
      "_________________________________________________________________\n",
      "dense3_1 (Dense)             (None, 1024)              4719616   \n",
      "_________________________________________________________________\n",
      "drop3_1 (Dropout)            (None, 1024)              0         \n",
      "_________________________________________________________________\n",
      "output (Dense)               (None, 7)                 7175      \n",
      "=================================================================\n",
      "Total params: 4,967,047\n",
      "Trainable params: 4,967,047\n",
      "Non-trainable params: 0\n",
      "_________________________________________________________________\n",
      "None\n"
     ]
    }
   ],
   "source": [
    "model = emo_Model()\n",
    "opt = Adam(lr=0.0001, decay=1e-6)\n",
    "model.compile(loss='categorical_crossentropy', optimizer=opt, metrics=['accuracy']) \n",
    "#plot_model(model, show_shapes=True)"
   ]
  },
  {
   "cell_type": "code",
   "execution_count": 25,
   "metadata": {},
   "outputs": [],
   "source": [
    "from keras.callbacks import ModelCheckpoint\n",
    "filepath=\"model1_weights_min_loss.h5\"\n",
    "checkpoint = ModelCheckpoint(filepath, monitor='val_loss', verbose=1, save_best_only=True, mode='min')\n",
    "callbacks_list = [checkpoint]"
   ]
  },
  {
   "cell_type": "code",
   "execution_count": 26,
   "metadata": {},
   "outputs": [
    {
     "data": {
      "text/plain": [
       "56"
      ]
     },
     "execution_count": 26,
     "metadata": {},
     "output_type": "execute_result"
    }
   ],
   "source": [
    "len(X_val) // batch_size"
   ]
  },
  {
   "cell_type": "code",
   "execution_count": 27,
   "metadata": {},
   "outputs": [
    {
     "name": "stdout",
     "output_type": "stream",
     "text": [
      "2.1.0\n"
     ]
    }
   ],
   "source": [
    "print(tf.__version__)"
   ]
  },
  {
   "cell_type": "code",
   "execution_count": 28,
   "metadata": {
    "scrolled": true
   },
   "outputs": [
    {
     "name": "stdout",
     "output_type": "stream",
     "text": [
      "Epoch 1/200\n",
      "449/448 [==============================] - 24s 54ms/step - loss: 1.8051 - accuracy: 0.2532 - val_loss: 1.6572 - val_accuracy: 0.2948\n",
      "\n",
      "Epoch 00001: val_loss improved from inf to 1.65722, saving model to model1_weights_min_loss.h5\n",
      "Epoch 2/200\n",
      "449/448 [==============================] - 20s 44ms/step - loss: 1.7145 - accuracy: 0.3123 - val_loss: 1.5779 - val_accuracy: 0.3901\n",
      "\n",
      "Epoch 00002: val_loss improved from 1.65722 to 1.57790, saving model to model1_weights_min_loss.h5\n",
      "Epoch 3/200\n",
      "449/448 [==============================] - 20s 44ms/step - loss: 1.6386 - accuracy: 0.3554 - val_loss: 1.5410 - val_accuracy: 0.4296\n",
      "\n",
      "Epoch 00003: val_loss improved from 1.57790 to 1.54102, saving model to model1_weights_min_loss.h5\n",
      "Epoch 4/200\n",
      "449/448 [==============================] - 20s 44ms/step - loss: 1.5784 - accuracy: 0.3886 - val_loss: 1.6747 - val_accuracy: 0.4505\n",
      "\n",
      "Epoch 00004: val_loss did not improve from 1.54102\n",
      "Epoch 5/200\n",
      "449/448 [==============================] - 20s 43ms/step - loss: 1.5230 - accuracy: 0.4107 - val_loss: 1.2420 - val_accuracy: 0.4781\n",
      "\n",
      "Epoch 00005: val_loss improved from 1.54102 to 1.24203, saving model to model1_weights_min_loss.h5\n",
      "Epoch 6/200\n",
      "449/448 [==============================] - 20s 44ms/step - loss: 1.4669 - accuracy: 0.4386 - val_loss: 1.2111 - val_accuracy: 0.4784\n",
      "\n",
      "Epoch 00006: val_loss improved from 1.24203 to 1.21110, saving model to model1_weights_min_loss.h5\n",
      "Epoch 7/200\n",
      "449/448 [==============================] - 20s 44ms/step - loss: 1.4210 - accuracy: 0.4550 - val_loss: 1.3823 - val_accuracy: 0.4868\n",
      "\n",
      "Epoch 00007: val_loss did not improve from 1.21110\n",
      "Epoch 8/200\n",
      "449/448 [==============================] - 20s 44ms/step - loss: 1.3818 - accuracy: 0.4718 - val_loss: 1.4968 - val_accuracy: 0.5138\n",
      "\n",
      "Epoch 00008: val_loss did not improve from 1.21110\n",
      "Epoch 9/200\n",
      "449/448 [==============================] - 20s 44ms/step - loss: 1.3528 - accuracy: 0.4866 - val_loss: 1.7559 - val_accuracy: 0.5199\n",
      "\n",
      "Epoch 00009: val_loss did not improve from 1.21110\n",
      "Epoch 10/200\n",
      "449/448 [==============================] - 20s 44ms/step - loss: 1.3243 - accuracy: 0.5002 - val_loss: 0.8307 - val_accuracy: 0.5252\n",
      "\n",
      "Epoch 00010: val_loss improved from 1.21110 to 0.83069, saving model to model1_weights_min_loss.h5\n",
      "Epoch 11/200\n",
      "449/448 [==============================] - 20s 44ms/step - loss: 1.3052 - accuracy: 0.5027 - val_loss: 1.0354 - val_accuracy: 0.5258\n",
      "\n",
      "Epoch 00011: val_loss did not improve from 0.83069\n",
      "Epoch 12/200\n",
      "449/448 [==============================] - 20s 43ms/step - loss: 1.2893 - accuracy: 0.5092 - val_loss: 2.0488 - val_accuracy: 0.5458\n",
      "\n",
      "Epoch 00012: val_loss did not improve from 0.83069\n",
      "Epoch 13/200\n",
      "449/448 [==============================] - 20s 44ms/step - loss: 1.2676 - accuracy: 0.5193 - val_loss: 1.3506 - val_accuracy: 0.5358\n",
      "\n",
      "Epoch 00013: val_loss did not improve from 0.83069\n",
      "Epoch 14/200\n",
      "449/448 [==============================] - 20s 44ms/step - loss: 1.2541 - accuracy: 0.5239 - val_loss: 1.5012 - val_accuracy: 0.5545\n",
      "\n",
      "Epoch 00014: val_loss did not improve from 0.83069\n",
      "Epoch 15/200\n",
      "449/448 [==============================] - 20s 44ms/step - loss: 1.2311 - accuracy: 0.5358 - val_loss: 0.2559 - val_accuracy: 0.5536\n",
      "\n",
      "Epoch 00015: val_loss improved from 0.83069 to 0.25591, saving model to model1_weights_min_loss.h5\n",
      "Epoch 16/200\n",
      "449/448 [==============================] - 19s 43ms/step - loss: 1.2236 - accuracy: 0.5350 - val_loss: 1.2905 - val_accuracy: 0.5584\n",
      "\n",
      "Epoch 00016: val_loss did not improve from 0.25591\n",
      "Epoch 17/200\n",
      "449/448 [==============================] - 19s 43ms/step - loss: 1.2093 - accuracy: 0.5411 - val_loss: 1.5204 - val_accuracy: 0.5637\n",
      "\n",
      "Epoch 00017: val_loss did not improve from 0.25591\n",
      "Epoch 18/200\n",
      "449/448 [==============================] - 20s 44ms/step - loss: 1.1899 - accuracy: 0.5501 - val_loss: 1.3401 - val_accuracy: 0.5701\n",
      "\n",
      "Epoch 00018: val_loss did not improve from 0.25591\n",
      "Epoch 19/200\n",
      "449/448 [==============================] - 20s 44ms/step - loss: 1.1864 - accuracy: 0.5537 - val_loss: 0.7421 - val_accuracy: 0.5698\n",
      "\n",
      "Epoch 00019: val_loss did not improve from 0.25591\n",
      "Epoch 20/200\n",
      "449/448 [==============================] - 20s 43ms/step - loss: 1.1707 - accuracy: 0.5562 - val_loss: 0.8858 - val_accuracy: 0.5729\n",
      "\n",
      "Epoch 00020: val_loss did not improve from 0.25591\n",
      "Epoch 21/200\n",
      "449/448 [==============================] - 20s 43ms/step - loss: 1.1649 - accuracy: 0.5608 - val_loss: 1.1258 - val_accuracy: 0.5751\n",
      "\n",
      "Epoch 00021: val_loss did not improve from 0.25591\n",
      "Epoch 22/200\n",
      "449/448 [==============================] - 20s 44ms/step - loss: 1.1532 - accuracy: 0.5629 - val_loss: 0.5062 - val_accuracy: 0.5821\n",
      "\n",
      "Epoch 00022: val_loss did not improve from 0.25591\n",
      "Epoch 23/200\n",
      "449/448 [==============================] - 20s 44ms/step - loss: 1.1498 - accuracy: 0.5636 - val_loss: 1.4298 - val_accuracy: 0.5840\n",
      "\n",
      "Epoch 00023: val_loss did not improve from 0.25591\n",
      "Epoch 24/200\n",
      "449/448 [==============================] - 20s 44ms/step - loss: 1.1356 - accuracy: 0.5730 - val_loss: 1.0311 - val_accuracy: 0.5879\n",
      "\n",
      "Epoch 00024: val_loss did not improve from 0.25591\n",
      "Epoch 25/200\n",
      "449/448 [==============================] - 20s 44ms/step - loss: 1.1306 - accuracy: 0.5745 - val_loss: 1.0501 - val_accuracy: 0.5921\n",
      "\n",
      "Epoch 00025: val_loss did not improve from 0.25591\n",
      "Epoch 26/200\n",
      "449/448 [==============================] - 20s 44ms/step - loss: 1.1219 - accuracy: 0.5743 - val_loss: 0.5619 - val_accuracy: 0.5985\n",
      "\n",
      "Epoch 00026: val_loss did not improve from 0.25591\n",
      "Epoch 27/200\n",
      "449/448 [==============================] - 20s 44ms/step - loss: 1.1194 - accuracy: 0.5762 - val_loss: 1.3840 - val_accuracy: 0.5935\n",
      "\n",
      "Epoch 00027: val_loss did not improve from 0.25591\n",
      "Epoch 28/200\n",
      "449/448 [==============================] - 20s 44ms/step - loss: 1.1029 - accuracy: 0.5848 - val_loss: 2.0093 - val_accuracy: 0.5926\n",
      "\n",
      "Epoch 00028: val_loss did not improve from 0.25591\n",
      "Epoch 29/200\n",
      "449/448 [==============================] - 20s 44ms/step - loss: 1.0995 - accuracy: 0.5848 - val_loss: 0.8147 - val_accuracy: 0.6074\n",
      "\n",
      "Epoch 00029: val_loss did not improve from 0.25591\n",
      "Epoch 30/200\n",
      "449/448 [==============================] - 20s 44ms/step - loss: 1.0902 - accuracy: 0.5882 - val_loss: 0.4889 - val_accuracy: 0.6007\n",
      "\n",
      "Epoch 00030: val_loss did not improve from 0.25591\n",
      "Epoch 31/200\n",
      "449/448 [==============================] - 20s 44ms/step - loss: 1.0850 - accuracy: 0.5896 - val_loss: 1.5283 - val_accuracy: 0.6016\n",
      "\n",
      "Epoch 00031: val_loss did not improve from 0.25591\n",
      "Epoch 32/200\n",
      "449/448 [==============================] - 20s 44ms/step - loss: 1.0780 - accuracy: 0.5956 - val_loss: 2.4496 - val_accuracy: 0.6119\n",
      "\n",
      "Epoch 00032: val_loss did not improve from 0.25591\n",
      "Epoch 33/200\n",
      "449/448 [==============================] - 20s 44ms/step - loss: 1.0708 - accuracy: 0.5995 - val_loss: 1.2590 - val_accuracy: 0.6147\n",
      "\n",
      "Epoch 00033: val_loss did not improve from 0.25591\n",
      "Epoch 34/200\n",
      "449/448 [==============================] - 20s 44ms/step - loss: 1.0582 - accuracy: 0.5997 - val_loss: 0.7783 - val_accuracy: 0.6108\n",
      "\n",
      "Epoch 00034: val_loss did not improve from 0.25591\n",
      "Epoch 35/200\n",
      "449/448 [==============================] - 20s 44ms/step - loss: 1.0629 - accuracy: 0.5979 - val_loss: 0.9738 - val_accuracy: 0.6113\n",
      "\n",
      "Epoch 00035: val_loss did not improve from 0.25591\n",
      "Epoch 36/200\n",
      "449/448 [==============================] - 20s 44ms/step - loss: 1.0523 - accuracy: 0.6077 - val_loss: 0.7942 - val_accuracy: 0.6158\n",
      "\n",
      "Epoch 00036: val_loss did not improve from 0.25591\n",
      "Epoch 37/200\n",
      "449/448 [==============================] - 20s 44ms/step - loss: 1.0450 - accuracy: 0.6059 - val_loss: 0.9639 - val_accuracy: 0.6149\n",
      "\n",
      "Epoch 00037: val_loss did not improve from 0.25591\n",
      "Epoch 38/200\n",
      "449/448 [==============================] - 20s 44ms/step - loss: 1.0383 - accuracy: 0.6102 - val_loss: 1.0655 - val_accuracy: 0.6211\n",
      "\n",
      "Epoch 00038: val_loss did not improve from 0.25591\n",
      "Epoch 39/200\n",
      "449/448 [==============================] - 20s 44ms/step - loss: 1.0373 - accuracy: 0.6089 - val_loss: 1.9346 - val_accuracy: 0.6188\n",
      "\n",
      "Epoch 00039: val_loss did not improve from 0.25591\n",
      "Epoch 40/200\n",
      "449/448 [==============================] - 20s 44ms/step - loss: 1.0324 - accuracy: 0.6109 - val_loss: 0.8755 - val_accuracy: 0.6191\n",
      "\n",
      "Epoch 00040: val_loss did not improve from 0.25591\n",
      "Epoch 41/200\n"
     ]
    },
    {
     "name": "stdout",
     "output_type": "stream",
     "text": [
      "449/448 [==============================] - 20s 44ms/step - loss: 1.0258 - accuracy: 0.6150 - val_loss: 1.3186 - val_accuracy: 0.6202\n",
      "\n",
      "Epoch 00041: val_loss did not improve from 0.25591\n",
      "Epoch 42/200\n",
      "449/448 [==============================] - 20s 44ms/step - loss: 1.0227 - accuracy: 0.6158 - val_loss: 0.9672 - val_accuracy: 0.6177\n",
      "\n",
      "Epoch 00042: val_loss did not improve from 0.25591\n",
      "Epoch 43/200\n",
      "449/448 [==============================] - 20s 44ms/step - loss: 1.0128 - accuracy: 0.6192 - val_loss: 1.6285 - val_accuracy: 0.6188\n",
      "\n",
      "Epoch 00043: val_loss did not improve from 0.25591\n",
      "Epoch 44/200\n",
      "449/448 [==============================] - 20s 44ms/step - loss: 1.0070 - accuracy: 0.6224 - val_loss: 1.4896 - val_accuracy: 0.6208\n",
      "\n",
      "Epoch 00044: val_loss did not improve from 0.25591\n",
      "Epoch 45/200\n",
      "449/448 [==============================] - 20s 44ms/step - loss: 1.0085 - accuracy: 0.6246 - val_loss: 0.7944 - val_accuracy: 0.6266\n",
      "\n",
      "Epoch 00045: val_loss did not improve from 0.25591\n",
      "Epoch 46/200\n",
      "449/448 [==============================] - 20s 44ms/step - loss: 1.0050 - accuracy: 0.6232 - val_loss: 0.4855 - val_accuracy: 0.6272\n",
      "\n",
      "Epoch 00046: val_loss did not improve from 0.25591\n",
      "Epoch 47/200\n",
      "449/448 [==============================] - 19s 43ms/step - loss: 1.0012 - accuracy: 0.6231 - val_loss: 0.9728 - val_accuracy: 0.6300\n",
      "\n",
      "Epoch 00047: val_loss did not improve from 0.25591\n",
      "Epoch 48/200\n",
      "449/448 [==============================] - 20s 44ms/step - loss: 0.9943 - accuracy: 0.6281 - val_loss: 0.7956 - val_accuracy: 0.6258\n",
      "\n",
      "Epoch 00048: val_loss did not improve from 0.25591\n",
      "Epoch 49/200\n",
      "449/448 [==============================] - 20s 44ms/step - loss: 0.9875 - accuracy: 0.6300 - val_loss: 1.4973 - val_accuracy: 0.6289\n",
      "\n",
      "Epoch 00049: val_loss did not improve from 0.25591\n",
      "Epoch 50/200\n",
      "449/448 [==============================] - 20s 44ms/step - loss: 0.9828 - accuracy: 0.6333 - val_loss: 0.7787 - val_accuracy: 0.6311\n",
      "\n",
      "Epoch 00050: val_loss did not improve from 0.25591\n",
      "Epoch 51/200\n",
      "449/448 [==============================] - 20s 44ms/step - loss: 0.9719 - accuracy: 0.6364 - val_loss: 0.3126 - val_accuracy: 0.6280\n",
      "\n",
      "Epoch 00051: val_loss did not improve from 0.25591\n",
      "Epoch 52/200\n",
      "449/448 [==============================] - 20s 44ms/step - loss: 0.9730 - accuracy: 0.6363 - val_loss: 1.7522 - val_accuracy: 0.6291\n",
      "\n",
      "Epoch 00052: val_loss did not improve from 0.25591\n",
      "Epoch 53/200\n",
      "449/448 [==============================] - 20s 44ms/step - loss: 0.9675 - accuracy: 0.6399 - val_loss: 0.3630 - val_accuracy: 0.6406\n",
      "\n",
      "Epoch 00053: val_loss did not improve from 0.25591\n",
      "Epoch 54/200\n",
      "449/448 [==============================] - 20s 44ms/step - loss: 0.9618 - accuracy: 0.6396 - val_loss: 1.4426 - val_accuracy: 0.6358\n",
      "\n",
      "Epoch 00054: val_loss did not improve from 0.25591\n",
      "Epoch 55/200\n",
      "449/448 [==============================] - 20s 44ms/step - loss: 0.9602 - accuracy: 0.6396 - val_loss: 0.6827 - val_accuracy: 0.6378\n",
      "\n",
      "Epoch 00055: val_loss did not improve from 0.25591\n",
      "Epoch 56/200\n",
      "449/448 [==============================] - 20s 44ms/step - loss: 0.9548 - accuracy: 0.6433 - val_loss: 1.0965 - val_accuracy: 0.6336\n",
      "\n",
      "Epoch 00056: val_loss did not improve from 0.25591\n",
      "Epoch 57/200\n",
      "449/448 [==============================] - 20s 44ms/step - loss: 0.9506 - accuracy: 0.6464 - val_loss: 1.5095 - val_accuracy: 0.6333\n",
      "\n",
      "Epoch 00057: val_loss did not improve from 0.25591\n",
      "Epoch 58/200\n",
      "449/448 [==============================] - 20s 44ms/step - loss: 0.9488 - accuracy: 0.6422 - val_loss: 1.2027 - val_accuracy: 0.6411\n",
      "\n",
      "Epoch 00058: val_loss did not improve from 0.25591\n",
      "Epoch 59/200\n",
      "449/448 [==============================] - 20s 44ms/step - loss: 0.9378 - accuracy: 0.6485 - val_loss: 1.1964 - val_accuracy: 0.6422\n",
      "\n",
      "Epoch 00059: val_loss did not improve from 0.25591\n",
      "Epoch 60/200\n",
      "449/448 [==============================] - 20s 44ms/step - loss: 0.9357 - accuracy: 0.6485 - val_loss: 0.8294 - val_accuracy: 0.6381\n",
      "\n",
      "Epoch 00060: val_loss did not improve from 0.25591\n",
      "Epoch 61/200\n",
      "449/448 [==============================] - 20s 44ms/step - loss: 0.9325 - accuracy: 0.6508 - val_loss: 0.3573 - val_accuracy: 0.6383\n",
      "\n",
      "Epoch 00061: val_loss did not improve from 0.25591\n",
      "Epoch 62/200\n",
      "449/448 [==============================] - 20s 44ms/step - loss: 0.9273 - accuracy: 0.6559 - val_loss: 0.6202 - val_accuracy: 0.6442\n",
      "\n",
      "Epoch 00062: val_loss did not improve from 0.25591\n",
      "Epoch 63/200\n",
      "449/448 [==============================] - 20s 44ms/step - loss: 0.9259 - accuracy: 0.6556 - val_loss: 1.2123 - val_accuracy: 0.6428\n",
      "\n",
      "Epoch 00063: val_loss did not improve from 0.25591\n",
      "Epoch 64/200\n",
      "449/448 [==============================] - 20s 44ms/step - loss: 0.9208 - accuracy: 0.6571 - val_loss: 0.2881 - val_accuracy: 0.6431\n",
      "\n",
      "Epoch 00064: val_loss did not improve from 0.25591\n",
      "Epoch 65/200\n",
      "449/448 [==============================] - 20s 44ms/step - loss: 0.9145 - accuracy: 0.6612 - val_loss: 1.4378 - val_accuracy: 0.6417\n",
      "\n",
      "Epoch 00065: val_loss did not improve from 0.25591\n",
      "Epoch 66/200\n",
      "449/448 [==============================] - 20s 44ms/step - loss: 0.9130 - accuracy: 0.6589 - val_loss: 0.3041 - val_accuracy: 0.6461\n",
      "\n",
      "Epoch 00066: val_loss did not improve from 0.25591\n",
      "Epoch 67/200\n",
      "449/448 [==============================] - 20s 44ms/step - loss: 0.9086 - accuracy: 0.6632 - val_loss: 0.3540 - val_accuracy: 0.6400\n",
      "\n",
      "Epoch 00067: val_loss did not improve from 0.25591\n",
      "Epoch 68/200\n",
      "449/448 [==============================] - 20s 44ms/step - loss: 0.9104 - accuracy: 0.6607 - val_loss: 1.4530 - val_accuracy: 0.6425\n",
      "\n",
      "Epoch 00068: val_loss did not improve from 0.25591\n",
      "Epoch 69/200\n",
      "449/448 [==============================] - 20s 44ms/step - loss: 0.9039 - accuracy: 0.6643 - val_loss: 1.0064 - val_accuracy: 0.6442\n",
      "\n",
      "Epoch 00069: val_loss did not improve from 0.25591\n",
      "Epoch 70/200\n",
      "449/448 [==============================] - 20s 44ms/step - loss: 0.8970 - accuracy: 0.6661 - val_loss: 1.4145 - val_accuracy: 0.6428\n",
      "\n",
      "Epoch 00070: val_loss did not improve from 0.25591\n",
      "Epoch 71/200\n",
      "449/448 [==============================] - 20s 44ms/step - loss: 0.8930 - accuracy: 0.6675 - val_loss: 0.2734 - val_accuracy: 0.6453\n",
      "\n",
      "Epoch 00071: val_loss did not improve from 0.25591\n",
      "Epoch 72/200\n",
      "449/448 [==============================] - 20s 44ms/step - loss: 0.8917 - accuracy: 0.6663 - val_loss: 0.9092 - val_accuracy: 0.6473\n",
      "\n",
      "Epoch 00072: val_loss did not improve from 0.25591\n",
      "Epoch 73/200\n",
      "449/448 [==============================] - 20s 44ms/step - loss: 0.8897 - accuracy: 0.6700 - val_loss: 0.3128 - val_accuracy: 0.6459\n",
      "\n",
      "Epoch 00073: val_loss did not improve from 0.25591\n",
      "Epoch 74/200\n",
      "449/448 [==============================] - 20s 44ms/step - loss: 0.8846 - accuracy: 0.6695 - val_loss: 1.0310 - val_accuracy: 0.6534\n",
      "\n",
      "Epoch 00074: val_loss did not improve from 0.25591\n",
      "Epoch 75/200\n",
      "449/448 [==============================] - 20s 44ms/step - loss: 0.8764 - accuracy: 0.6749 - val_loss: 0.5634 - val_accuracy: 0.6489\n",
      "\n",
      "Epoch 00075: val_loss did not improve from 0.25591\n",
      "Epoch 76/200\n",
      "449/448 [==============================] - 20s 44ms/step - loss: 0.8724 - accuracy: 0.6747 - val_loss: 0.9687 - val_accuracy: 0.6562\n",
      "\n",
      "Epoch 00076: val_loss did not improve from 0.25591\n",
      "Epoch 77/200\n",
      "449/448 [==============================] - 20s 44ms/step - loss: 0.8681 - accuracy: 0.6770 - val_loss: 1.9401 - val_accuracy: 0.6534\n",
      "\n",
      "Epoch 00077: val_loss did not improve from 0.25591\n",
      "Epoch 78/200\n",
      "449/448 [==============================] - 20s 44ms/step - loss: 0.8598 - accuracy: 0.6808 - val_loss: 0.6110 - val_accuracy: 0.6567\n",
      "\n",
      "Epoch 00078: val_loss did not improve from 0.25591\n",
      "Epoch 79/200\n",
      "449/448 [==============================] - 20s 44ms/step - loss: 0.8651 - accuracy: 0.6778 - val_loss: 1.7962 - val_accuracy: 0.6467\n",
      "\n",
      "Epoch 00079: val_loss did not improve from 0.25591\n",
      "Epoch 80/200\n",
      "449/448 [==============================] - 20s 44ms/step - loss: 0.8605 - accuracy: 0.6811 - val_loss: 1.3165 - val_accuracy: 0.6481\n",
      "\n",
      "Epoch 00080: val_loss did not improve from 0.25591\n",
      "Epoch 81/200\n",
      "449/448 [==============================] - 20s 44ms/step - loss: 0.8548 - accuracy: 0.6851 - val_loss: 0.3191 - val_accuracy: 0.6531\n",
      "\n",
      "Epoch 00081: val_loss did not improve from 0.25591\n",
      "Epoch 82/200\n",
      "449/448 [==============================] - 20s 44ms/step - loss: 0.8543 - accuracy: 0.6816 - val_loss: 1.1665 - val_accuracy: 0.6551\n",
      "\n",
      "Epoch 00082: val_loss did not improve from 0.25591\n",
      "Epoch 83/200\n",
      "449/448 [==============================] - 20s 44ms/step - loss: 0.8531 - accuracy: 0.6832 - val_loss: 0.7835 - val_accuracy: 0.6553\n",
      "\n",
      "Epoch 00083: val_loss did not improve from 0.25591\n",
      "Epoch 84/200\n",
      "449/448 [==============================] - 20s 44ms/step - loss: 0.8413 - accuracy: 0.6863 - val_loss: 2.4101 - val_accuracy: 0.6615\n",
      "\n",
      "Epoch 00084: val_loss did not improve from 0.25591\n",
      "Epoch 85/200\n",
      "449/448 [==============================] - 20s 44ms/step - loss: 0.8446 - accuracy: 0.6859 - val_loss: 0.8919 - val_accuracy: 0.6523\n",
      "\n",
      "Epoch 00085: val_loss did not improve from 0.25591\n",
      "Epoch 86/200\n",
      "449/448 [==============================] - 20s 44ms/step - loss: 0.8432 - accuracy: 0.6854 - val_loss: 1.6428 - val_accuracy: 0.6506\n",
      "\n",
      "Epoch 00086: val_loss did not improve from 0.25591\n",
      "Epoch 87/200\n",
      "449/448 [==============================] - 20s 44ms/step - loss: 0.8414 - accuracy: 0.6878 - val_loss: 0.9832 - val_accuracy: 0.6573\n",
      "\n",
      "Epoch 00087: val_loss did not improve from 0.25591\n",
      "Epoch 88/200\n",
      "449/448 [==============================] - 20s 44ms/step - loss: 0.8306 - accuracy: 0.6918 - val_loss: 1.2002 - val_accuracy: 0.6517\n",
      "\n",
      "Epoch 00088: val_loss did not improve from 0.25591\n",
      "Epoch 89/200\n",
      "449/448 [==============================] - 20s 44ms/step - loss: 0.8288 - accuracy: 0.6917 - val_loss: 0.5845 - val_accuracy: 0.6534\n",
      "\n",
      "Epoch 00089: val_loss did not improve from 0.25591\n",
      "Epoch 90/200\n",
      "449/448 [==============================] - 20s 44ms/step - loss: 0.8235 - accuracy: 0.6945 - val_loss: 0.5667 - val_accuracy: 0.6576\n",
      "\n",
      "Epoch 00090: val_loss did not improve from 0.25591\n",
      "Epoch 91/200\n",
      "449/448 [==============================] - 20s 44ms/step - loss: 0.8237 - accuracy: 0.6932 - val_loss: 0.7723 - val_accuracy: 0.6539\n",
      "\n",
      "Epoch 00091: val_loss did not improve from 0.25591\n",
      "Epoch 92/200\n",
      "449/448 [==============================] - 20s 44ms/step - loss: 0.8239 - accuracy: 0.6923 - val_loss: 1.5306 - val_accuracy: 0.6562\n",
      "\n",
      "Epoch 00092: val_loss did not improve from 0.25591\n",
      "Epoch 93/200\n",
      "449/448 [==============================] - 20s 44ms/step - loss: 0.8110 - accuracy: 0.7008 - val_loss: 0.6955 - val_accuracy: 0.6590\n",
      "\n",
      "Epoch 00093: val_loss did not improve from 0.25591\n",
      "Epoch 94/200\n",
      "449/448 [==============================] - 20s 44ms/step - loss: 0.8121 - accuracy: 0.6981 - val_loss: 1.6883 - val_accuracy: 0.6559\n",
      "\n",
      "Epoch 00094: val_loss did not improve from 0.25591\n",
      "Epoch 95/200\n",
      "449/448 [==============================] - 20s 44ms/step - loss: 0.8053 - accuracy: 0.7004 - val_loss: 0.6910 - val_accuracy: 0.6604\n",
      "\n",
      "Epoch 00095: val_loss did not improve from 0.25591\n",
      "Epoch 96/200\n",
      "449/448 [==============================] - 20s 44ms/step - loss: 0.8034 - accuracy: 0.7010 - val_loss: 1.0698 - val_accuracy: 0.6498\n",
      "\n",
      "Epoch 00096: val_loss did not improve from 0.25591\n",
      "Epoch 97/200\n",
      "449/448 [==============================] - 20s 44ms/step - loss: 0.8063 - accuracy: 0.6991 - val_loss: 0.7206 - val_accuracy: 0.6584\n",
      "\n",
      "Epoch 00097: val_loss did not improve from 0.25591\n",
      "Epoch 98/200\n",
      "449/448 [==============================] - 20s 44ms/step - loss: 0.8010 - accuracy: 0.7028 - val_loss: 0.4738 - val_accuracy: 0.6534\n",
      "\n",
      "Epoch 00098: val_loss did not improve from 0.25591\n",
      "Epoch 99/200\n",
      "449/448 [==============================] - 20s 44ms/step - loss: 0.7980 - accuracy: 0.7003 - val_loss: 0.9604 - val_accuracy: 0.6565\n",
      "\n",
      "Epoch 00099: val_loss did not improve from 0.25591\n",
      "Epoch 100/200\n",
      "449/448 [==============================] - 20s 44ms/step - loss: 0.7938 - accuracy: 0.7053 - val_loss: 0.9408 - val_accuracy: 0.6640\n",
      "\n",
      "Epoch 00100: val_loss did not improve from 0.25591\n",
      "Epoch 101/200\n",
      "449/448 [==============================] - 20s 44ms/step - loss: 0.7895 - accuracy: 0.7076 - val_loss: 0.3849 - val_accuracy: 0.6643\n",
      "\n",
      "Epoch 00101: val_loss did not improve from 0.25591\n",
      "Epoch 102/200\n",
      "449/448 [==============================] - 20s 44ms/step - loss: 0.7850 - accuracy: 0.7096 - val_loss: 0.4079 - val_accuracy: 0.6629\n",
      "\n",
      "Epoch 00102: val_loss did not improve from 0.25591\n",
      "Epoch 103/200\n",
      "449/448 [==============================] - 20s 44ms/step - loss: 0.7799 - accuracy: 0.7099 - val_loss: 0.1631 - val_accuracy: 0.6606\n",
      "\n",
      "Epoch 00103: val_loss improved from 0.25591 to 0.16312, saving model to model1_weights_min_loss.h5\n",
      "Epoch 104/200\n",
      "449/448 [==============================] - 20s 44ms/step - loss: 0.7870 - accuracy: 0.7090 - val_loss: 0.4538 - val_accuracy: 0.6601\n",
      "\n",
      "Epoch 00104: val_loss did not improve from 0.16312\n",
      "Epoch 105/200\n",
      "449/448 [==============================] - 20s 44ms/step - loss: 0.7746 - accuracy: 0.7138 - val_loss: 0.8459 - val_accuracy: 0.6598\n",
      "\n",
      "Epoch 00105: val_loss did not improve from 0.16312\n",
      "Epoch 106/200\n",
      "449/448 [==============================] - 20s 44ms/step - loss: 0.7831 - accuracy: 0.7082 - val_loss: 1.4091 - val_accuracy: 0.6631\n",
      "\n",
      "Epoch 00106: val_loss did not improve from 0.16312\n",
      "Epoch 107/200\n",
      "449/448 [==============================] - 20s 44ms/step - loss: 0.7719 - accuracy: 0.7129 - val_loss: 1.2618 - val_accuracy: 0.6609\n",
      "\n",
      "Epoch 00107: val_loss did not improve from 0.16312\n",
      "Epoch 108/200\n",
      "449/448 [==============================] - 20s 44ms/step - loss: 0.7662 - accuracy: 0.7160 - val_loss: 1.0076 - val_accuracy: 0.6645\n",
      "\n",
      "Epoch 00108: val_loss did not improve from 0.16312\n",
      "Epoch 109/200\n",
      "449/448 [==============================] - 20s 44ms/step - loss: 0.7650 - accuracy: 0.7182 - val_loss: 0.7294 - val_accuracy: 0.6676\n",
      "\n",
      "Epoch 00109: val_loss did not improve from 0.16312\n",
      "Epoch 110/200\n",
      "449/448 [==============================] - 20s 44ms/step - loss: 0.7663 - accuracy: 0.7163 - val_loss: 0.5884 - val_accuracy: 0.6654\n",
      "\n",
      "Epoch 00110: val_loss did not improve from 0.16312\n",
      "Epoch 111/200\n",
      "449/448 [==============================] - 20s 44ms/step - loss: 0.7562 - accuracy: 0.7209 - val_loss: 1.0482 - val_accuracy: 0.6659\n",
      "\n",
      "Epoch 00111: val_loss did not improve from 0.16312\n",
      "Epoch 112/200\n",
      "449/448 [==============================] - 20s 44ms/step - loss: 0.7584 - accuracy: 0.7224 - val_loss: 1.0271 - val_accuracy: 0.6679\n",
      "\n",
      "Epoch 00112: val_loss did not improve from 0.16312\n",
      "Epoch 113/200\n",
      "449/448 [==============================] - 20s 44ms/step - loss: 0.7538 - accuracy: 0.7214 - val_loss: 0.9949 - val_accuracy: 0.6676\n",
      "\n",
      "Epoch 00113: val_loss did not improve from 0.16312\n",
      "Epoch 114/200\n",
      "449/448 [==============================] - 20s 44ms/step - loss: 0.7518 - accuracy: 0.7212 - val_loss: 0.2679 - val_accuracy: 0.6670\n",
      "\n",
      "Epoch 00114: val_loss did not improve from 0.16312\n",
      "Epoch 115/200\n",
      "449/448 [==============================] - 20s 44ms/step - loss: 0.7508 - accuracy: 0.7234 - val_loss: 0.9411 - val_accuracy: 0.6684\n",
      "\n",
      "Epoch 00115: val_loss did not improve from 0.16312\n",
      "Epoch 116/200\n",
      "449/448 [==============================] - 20s 44ms/step - loss: 0.7414 - accuracy: 0.7247 - val_loss: 0.2377 - val_accuracy: 0.6654\n",
      "\n",
      "Epoch 00116: val_loss did not improve from 0.16312\n",
      "Epoch 117/200\n",
      "449/448 [==============================] - 20s 44ms/step - loss: 0.7351 - accuracy: 0.7300 - val_loss: 0.5467 - val_accuracy: 0.6640\n",
      "\n",
      "Epoch 00117: val_loss did not improve from 0.16312\n",
      "Epoch 118/200\n",
      "449/448 [==============================] - 20s 44ms/step - loss: 0.7387 - accuracy: 0.7254 - val_loss: 0.7190 - val_accuracy: 0.6631\n",
      "\n",
      "Epoch 00118: val_loss did not improve from 0.16312\n",
      "Epoch 119/200\n",
      "449/448 [==============================] - 20s 44ms/step - loss: 0.7367 - accuracy: 0.7289 - val_loss: 0.9457 - val_accuracy: 0.6721\n",
      "\n",
      "Epoch 00119: val_loss did not improve from 0.16312\n",
      "Epoch 120/200\n",
      "449/448 [==============================] - 20s 44ms/step - loss: 0.7401 - accuracy: 0.7224 - val_loss: 0.6491 - val_accuracy: 0.6721\n",
      "\n",
      "Epoch 00120: val_loss did not improve from 0.16312\n",
      "Epoch 121/200\n",
      "449/448 [==============================] - 20s 44ms/step - loss: 0.7345 - accuracy: 0.7315 - val_loss: 0.6966 - val_accuracy: 0.6712\n",
      "\n",
      "Epoch 00121: val_loss did not improve from 0.16312\n",
      "Epoch 122/200\n",
      "449/448 [==============================] - 20s 44ms/step - loss: 0.7302 - accuracy: 0.7311 - val_loss: 1.3921 - val_accuracy: 0.6709\n",
      "\n",
      "Epoch 00122: val_loss did not improve from 0.16312\n",
      "Epoch 123/200\n"
     ]
    },
    {
     "name": "stdout",
     "output_type": "stream",
     "text": [
      "449/448 [==============================] - 20s 44ms/step - loss: 0.7230 - accuracy: 0.7311 - val_loss: 0.6973 - val_accuracy: 0.6737\n",
      "\n",
      "Epoch 00123: val_loss did not improve from 0.16312\n",
      "Epoch 124/200\n",
      "449/448 [==============================] - 20s 44ms/step - loss: 0.7265 - accuracy: 0.7334 - val_loss: 2.0164 - val_accuracy: 0.6701\n",
      "\n",
      "Epoch 00124: val_loss did not improve from 0.16312\n",
      "Epoch 125/200\n",
      "449/448 [==============================] - 20s 44ms/step - loss: 0.7274 - accuracy: 0.7314 - val_loss: 0.2967 - val_accuracy: 0.6695\n",
      "\n",
      "Epoch 00125: val_loss did not improve from 0.16312\n",
      "Epoch 126/200\n",
      "449/448 [==============================] - 20s 44ms/step - loss: 0.7145 - accuracy: 0.7372 - val_loss: 0.4361 - val_accuracy: 0.6732\n",
      "\n",
      "Epoch 00126: val_loss did not improve from 0.16312\n",
      "Epoch 127/200\n",
      "449/448 [==============================] - 20s 44ms/step - loss: 0.7155 - accuracy: 0.7346 - val_loss: 0.3010 - val_accuracy: 0.6695\n",
      "\n",
      "Epoch 00127: val_loss did not improve from 0.16312\n",
      "Epoch 128/200\n",
      "449/448 [==============================] - 20s 44ms/step - loss: 0.7173 - accuracy: 0.7344 - val_loss: 0.4961 - val_accuracy: 0.6695\n",
      "\n",
      "Epoch 00128: val_loss did not improve from 0.16312\n",
      "Epoch 129/200\n",
      "449/448 [==============================] - 20s 44ms/step - loss: 0.7137 - accuracy: 0.7355 - val_loss: 0.9330 - val_accuracy: 0.6682\n",
      "\n",
      "Epoch 00129: val_loss did not improve from 0.16312\n",
      "Epoch 130/200\n",
      "449/448 [==============================] - 20s 43ms/step - loss: 0.7070 - accuracy: 0.7394 - val_loss: 0.3295 - val_accuracy: 0.6732\n",
      "\n",
      "Epoch 00130: val_loss did not improve from 0.16312\n",
      "Epoch 131/200\n",
      "449/448 [==============================] - 20s 44ms/step - loss: 0.7036 - accuracy: 0.7412 - val_loss: 1.1113 - val_accuracy: 0.6715\n",
      "\n",
      "Epoch 00131: val_loss did not improve from 0.16312\n",
      "Epoch 132/200\n",
      "449/448 [==============================] - 20s 44ms/step - loss: 0.7053 - accuracy: 0.7394 - val_loss: 0.4054 - val_accuracy: 0.6737\n",
      "\n",
      "Epoch 00132: val_loss did not improve from 0.16312\n",
      "Epoch 133/200\n",
      "449/448 [==============================] - 20s 44ms/step - loss: 0.6994 - accuracy: 0.7430 - val_loss: 0.3714 - val_accuracy: 0.6785\n",
      "\n",
      "Epoch 00133: val_loss did not improve from 0.16312\n",
      "Epoch 134/200\n",
      "449/448 [==============================] - 20s 44ms/step - loss: 0.6936 - accuracy: 0.7421 - val_loss: 0.6585 - val_accuracy: 0.6704\n",
      "\n",
      "Epoch 00134: val_loss did not improve from 0.16312\n",
      "Epoch 135/200\n",
      "449/448 [==============================] - 20s 43ms/step - loss: 0.6939 - accuracy: 0.7429 - val_loss: 0.9147 - val_accuracy: 0.6690\n",
      "\n",
      "Epoch 00135: val_loss did not improve from 0.16312\n",
      "Epoch 136/200\n",
      "449/448 [==============================] - 20s 44ms/step - loss: 0.6913 - accuracy: 0.7420 - val_loss: 1.0134 - val_accuracy: 0.6812\n",
      "\n",
      "Epoch 00136: val_loss did not improve from 0.16312\n",
      "Epoch 137/200\n",
      "449/448 [==============================] - 20s 44ms/step - loss: 0.6947 - accuracy: 0.7421 - val_loss: 1.3315 - val_accuracy: 0.6776\n",
      "\n",
      "Epoch 00137: val_loss did not improve from 0.16312\n",
      "Epoch 138/200\n",
      "449/448 [==============================] - 20s 44ms/step - loss: 0.6882 - accuracy: 0.7448 - val_loss: 1.2060 - val_accuracy: 0.6751\n",
      "\n",
      "Epoch 00138: val_loss did not improve from 0.16312\n",
      "Epoch 139/200\n",
      "449/448 [==============================] - 20s 44ms/step - loss: 0.6908 - accuracy: 0.7491 - val_loss: 0.3716 - val_accuracy: 0.6782\n",
      "\n",
      "Epoch 00139: val_loss did not improve from 0.16312\n",
      "Epoch 140/200\n",
      "449/448 [==============================] - 20s 44ms/step - loss: 0.6761 - accuracy: 0.7485 - val_loss: 0.6985 - val_accuracy: 0.6654\n",
      "\n",
      "Epoch 00140: val_loss did not improve from 0.16312\n",
      "Epoch 141/200\n",
      "449/448 [==============================] - 20s 44ms/step - loss: 0.6781 - accuracy: 0.7490 - val_loss: 0.3492 - val_accuracy: 0.6757\n",
      "\n",
      "Epoch 00141: val_loss did not improve from 0.16312\n",
      "Epoch 142/200\n",
      "449/448 [==============================] - 20s 44ms/step - loss: 0.6790 - accuracy: 0.7512 - val_loss: 0.6961 - val_accuracy: 0.6801\n",
      "\n",
      "Epoch 00142: val_loss did not improve from 0.16312\n",
      "Epoch 143/200\n",
      "449/448 [==============================] - 20s 44ms/step - loss: 0.6751 - accuracy: 0.7523 - val_loss: 0.3744 - val_accuracy: 0.6760\n",
      "\n",
      "Epoch 00143: val_loss did not improve from 0.16312\n",
      "Epoch 144/200\n",
      "449/448 [==============================] - 20s 44ms/step - loss: 0.6703 - accuracy: 0.7531 - val_loss: 0.2766 - val_accuracy: 0.6760\n",
      "\n",
      "Epoch 00144: val_loss did not improve from 0.16312\n",
      "Epoch 145/200\n",
      "449/448 [==============================] - 20s 44ms/step - loss: 0.6727 - accuracy: 0.7521 - val_loss: 0.9012 - val_accuracy: 0.6776\n",
      "\n",
      "Epoch 00145: val_loss did not improve from 0.16312\n",
      "Epoch 146/200\n",
      "449/448 [==============================] - 20s 44ms/step - loss: 0.6709 - accuracy: 0.7520 - val_loss: 2.4392 - val_accuracy: 0.6787\n",
      "\n",
      "Epoch 00146: val_loss did not improve from 0.16312\n",
      "Epoch 147/200\n",
      "449/448 [==============================] - 20s 44ms/step - loss: 0.6662 - accuracy: 0.7555 - val_loss: 0.6255 - val_accuracy: 0.6807\n",
      "\n",
      "Epoch 00147: val_loss did not improve from 0.16312\n",
      "Epoch 148/200\n",
      "449/448 [==============================] - 20s 43ms/step - loss: 0.6637 - accuracy: 0.7543 - val_loss: 1.2532 - val_accuracy: 0.6771\n",
      "\n",
      "Epoch 00148: val_loss did not improve from 0.16312\n",
      "Epoch 149/200\n",
      "449/448 [==============================] - 20s 44ms/step - loss: 0.6534 - accuracy: 0.7578 - val_loss: 1.3721 - val_accuracy: 0.6729\n",
      "\n",
      "Epoch 00149: val_loss did not improve from 0.16312\n",
      "Epoch 150/200\n",
      "449/448 [==============================] - 20s 44ms/step - loss: 0.6583 - accuracy: 0.7589 - val_loss: 0.3192 - val_accuracy: 0.6698\n",
      "\n",
      "Epoch 00150: val_loss did not improve from 0.16312\n",
      "Epoch 151/200\n",
      "449/448 [==============================] - 20s 44ms/step - loss: 0.6631 - accuracy: 0.7523 - val_loss: 0.2321 - val_accuracy: 0.6754\n",
      "\n",
      "Epoch 00151: val_loss did not improve from 0.16312\n",
      "Epoch 152/200\n",
      "449/448 [==============================] - 20s 43ms/step - loss: 0.6587 - accuracy: 0.7577 - val_loss: 0.0531 - val_accuracy: 0.6721\n",
      "\n",
      "Epoch 00152: val_loss improved from 0.16312 to 0.05310, saving model to model1_weights_min_loss.h5\n",
      "Epoch 153/200\n",
      "449/448 [==============================] - 20s 44ms/step - loss: 0.6505 - accuracy: 0.7606 - val_loss: 1.7684 - val_accuracy: 0.6760\n",
      "\n",
      "Epoch 00153: val_loss did not improve from 0.05310\n",
      "Epoch 154/200\n",
      "449/448 [==============================] - 20s 44ms/step - loss: 0.6524 - accuracy: 0.7598 - val_loss: 1.1191 - val_accuracy: 0.6737\n",
      "\n",
      "Epoch 00154: val_loss did not improve from 0.05310\n",
      "Epoch 155/200\n",
      "449/448 [==============================] - 20s 44ms/step - loss: 0.6427 - accuracy: 0.7615 - val_loss: 0.9223 - val_accuracy: 0.6829\n",
      "\n",
      "Epoch 00155: val_loss did not improve from 0.05310\n",
      "Epoch 156/200\n",
      "449/448 [==============================] - 20s 44ms/step - loss: 0.6469 - accuracy: 0.7625 - val_loss: 1.4015 - val_accuracy: 0.6746\n",
      "\n",
      "Epoch 00156: val_loss did not improve from 0.05310\n",
      "Epoch 157/200\n",
      "449/448 [==============================] - 20s 44ms/step - loss: 0.6460 - accuracy: 0.7606 - val_loss: 1.3161 - val_accuracy: 0.6737\n",
      "\n",
      "Epoch 00157: val_loss did not improve from 0.05310\n",
      "Epoch 158/200\n",
      "449/448 [==============================] - 20s 44ms/step - loss: 0.6402 - accuracy: 0.7643 - val_loss: 1.6474 - val_accuracy: 0.6762\n",
      "\n",
      "Epoch 00158: val_loss did not improve from 0.05310\n",
      "Epoch 159/200\n",
      "449/448 [==============================] - 20s 44ms/step - loss: 0.6390 - accuracy: 0.7650 - val_loss: 1.4855 - val_accuracy: 0.6751\n",
      "\n",
      "Epoch 00159: val_loss did not improve from 0.05310\n",
      "Epoch 160/200\n",
      "449/448 [==============================] - 20s 44ms/step - loss: 0.6368 - accuracy: 0.7659 - val_loss: 1.2280 - val_accuracy: 0.6785\n",
      "\n",
      "Epoch 00160: val_loss did not improve from 0.05310\n",
      "Epoch 161/200\n",
      "449/448 [==============================] - 20s 44ms/step - loss: 0.6406 - accuracy: 0.7647 - val_loss: 1.5531 - val_accuracy: 0.6776\n",
      "\n",
      "Epoch 00161: val_loss did not improve from 0.05310\n",
      "Epoch 162/200\n",
      "449/448 [==============================] - 20s 43ms/step - loss: 0.6333 - accuracy: 0.7674 - val_loss: 0.1269 - val_accuracy: 0.6721\n",
      "\n",
      "Epoch 00162: val_loss did not improve from 0.05310\n",
      "Epoch 163/200\n",
      "449/448 [==============================] - 20s 44ms/step - loss: 0.6237 - accuracy: 0.7715 - val_loss: 0.3043 - val_accuracy: 0.6790\n",
      "\n",
      "Epoch 00163: val_loss did not improve from 0.05310\n",
      "Epoch 164/200\n"
     ]
    },
    {
     "name": "stdout",
     "output_type": "stream",
     "text": [
      "449/448 [==============================] - 20s 43ms/step - loss: 0.6324 - accuracy: 0.7649 - val_loss: 0.5813 - val_accuracy: 0.6779\n",
      "\n",
      "Epoch 00164: val_loss did not improve from 0.05310\n",
      "Epoch 165/200\n",
      "449/448 [==============================] - 20s 44ms/step - loss: 0.6305 - accuracy: 0.7666 - val_loss: 0.3311 - val_accuracy: 0.6737\n",
      "\n",
      "Epoch 00165: val_loss did not improve from 0.05310\n",
      "Epoch 166/200\n",
      "449/448 [==============================] - 20s 44ms/step - loss: 0.6216 - accuracy: 0.7713 - val_loss: 1.9118 - val_accuracy: 0.6754\n",
      "\n",
      "Epoch 00166: val_loss did not improve from 0.05310\n",
      "Epoch 167/200\n",
      "449/448 [==============================] - 20s 43ms/step - loss: 0.6203 - accuracy: 0.7720 - val_loss: 0.5663 - val_accuracy: 0.6737\n",
      "\n",
      "Epoch 00167: val_loss did not improve from 0.05310\n",
      "Epoch 168/200\n",
      "449/448 [==============================] - 20s 44ms/step - loss: 0.6236 - accuracy: 0.7709 - val_loss: 1.5767 - val_accuracy: 0.6723\n",
      "\n",
      "Epoch 00168: val_loss did not improve from 0.05310\n",
      "Epoch 169/200\n",
      "449/448 [==============================] - 20s 44ms/step - loss: 0.6200 - accuracy: 0.7739 - val_loss: 0.1331 - val_accuracy: 0.6715\n",
      "\n",
      "Epoch 00169: val_loss did not improve from 0.05310\n",
      "Epoch 170/200\n",
      "449/448 [==============================] - 20s 43ms/step - loss: 0.6217 - accuracy: 0.7718 - val_loss: 1.5764 - val_accuracy: 0.6804\n",
      "\n",
      "Epoch 00170: val_loss did not improve from 0.05310\n",
      "Epoch 171/200\n",
      "449/448 [==============================] - 20s 44ms/step - loss: 0.6229 - accuracy: 0.7697 - val_loss: 0.9343 - val_accuracy: 0.6782\n",
      "\n",
      "Epoch 00171: val_loss did not improve from 0.05310\n",
      "Epoch 172/200\n",
      "449/448 [==============================] - 19s 43ms/step - loss: 0.6143 - accuracy: 0.7716 - val_loss: 0.8659 - val_accuracy: 0.6773\n",
      "\n",
      "Epoch 00172: val_loss did not improve from 0.05310\n",
      "Epoch 173/200\n",
      "449/448 [==============================] - 20s 44ms/step - loss: 0.6124 - accuracy: 0.7734 - val_loss: 2.6795 - val_accuracy: 0.6776\n",
      "\n",
      "Epoch 00173: val_loss did not improve from 0.05310\n",
      "Epoch 174/200\n",
      "449/448 [==============================] - 20s 44ms/step - loss: 0.6189 - accuracy: 0.7718 - val_loss: 0.6963 - val_accuracy: 0.6818\n",
      "\n",
      "Epoch 00174: val_loss did not improve from 0.05310\n",
      "Epoch 175/200\n",
      "449/448 [==============================] - 20s 44ms/step - loss: 0.6053 - accuracy: 0.7779 - val_loss: 0.6873 - val_accuracy: 0.6807\n",
      "\n",
      "Epoch 00175: val_loss did not improve from 0.05310\n",
      "Epoch 176/200\n",
      "449/448 [==============================] - 20s 44ms/step - loss: 0.6058 - accuracy: 0.7749 - val_loss: 0.2787 - val_accuracy: 0.6768\n",
      "\n",
      "Epoch 00176: val_loss did not improve from 0.05310\n",
      "Epoch 177/200\n",
      "449/448 [==============================] - 20s 44ms/step - loss: 0.6102 - accuracy: 0.7781 - val_loss: 1.2545 - val_accuracy: 0.6826\n",
      "\n",
      "Epoch 00177: val_loss did not improve from 0.05310\n",
      "Epoch 178/200\n",
      "449/448 [==============================] - 20s 44ms/step - loss: 0.6070 - accuracy: 0.7768 - val_loss: 1.4844 - val_accuracy: 0.6790\n",
      "\n",
      "Epoch 00178: val_loss did not improve from 0.05310\n",
      "Epoch 179/200\n",
      "449/448 [==============================] - 20s 44ms/step - loss: 0.6015 - accuracy: 0.7763 - val_loss: 2.2013 - val_accuracy: 0.6754\n",
      "\n",
      "Epoch 00179: val_loss did not improve from 0.05310\n",
      "Epoch 180/200\n",
      "449/448 [==============================] - 20s 44ms/step - loss: 0.5963 - accuracy: 0.7826 - val_loss: 3.8600 - val_accuracy: 0.6799\n",
      "\n",
      "Epoch 00180: val_loss did not improve from 0.05310\n",
      "Epoch 181/200\n",
      "449/448 [==============================] - 20s 44ms/step - loss: 0.5964 - accuracy: 0.7802 - val_loss: 0.7256 - val_accuracy: 0.6868\n",
      "\n",
      "Epoch 00181: val_loss did not improve from 0.05310\n",
      "Epoch 182/200\n",
      "449/448 [==============================] - 20s 44ms/step - loss: 0.5958 - accuracy: 0.7816 - val_loss: 1.1924 - val_accuracy: 0.6840\n",
      "\n",
      "Epoch 00182: val_loss did not improve from 0.05310\n",
      "Epoch 183/200\n",
      "449/448 [==============================] - 20s 44ms/step - loss: 0.6002 - accuracy: 0.7807 - val_loss: 1.6488 - val_accuracy: 0.6824\n",
      "\n",
      "Epoch 00183: val_loss did not improve from 0.05310\n",
      "Epoch 184/200\n",
      "449/448 [==============================] - 20s 44ms/step - loss: 0.5960 - accuracy: 0.7809 - val_loss: 0.0879 - val_accuracy: 0.6824\n",
      "\n",
      "Epoch 00184: val_loss did not improve from 0.05310\n",
      "Epoch 185/200\n",
      "449/448 [==============================] - 20s 44ms/step - loss: 0.5930 - accuracy: 0.7810 - val_loss: 1.1973 - val_accuracy: 0.6804\n",
      "\n",
      "Epoch 00185: val_loss did not improve from 0.05310\n",
      "Epoch 186/200\n",
      "449/448 [==============================] - 20s 44ms/step - loss: 0.5906 - accuracy: 0.7813 - val_loss: 0.5670 - val_accuracy: 0.6785\n",
      "\n",
      "Epoch 00186: val_loss did not improve from 0.05310\n",
      "Epoch 187/200\n",
      "449/448 [==============================] - 20s 44ms/step - loss: 0.5804 - accuracy: 0.7901 - val_loss: 0.4284 - val_accuracy: 0.6760\n",
      "\n",
      "Epoch 00187: val_loss did not improve from 0.05310\n",
      "Epoch 188/200\n",
      "449/448 [==============================] - 20s 44ms/step - loss: 0.5887 - accuracy: 0.7848 - val_loss: 0.2042 - val_accuracy: 0.6787\n",
      "\n",
      "Epoch 00188: val_loss did not improve from 0.05310\n",
      "Epoch 189/200\n",
      "449/448 [==============================] - 20s 44ms/step - loss: 0.5807 - accuracy: 0.7849 - val_loss: 0.5834 - val_accuracy: 0.6824\n",
      "\n",
      "Epoch 00189: val_loss did not improve from 0.05310\n",
      "Epoch 190/200\n",
      "449/448 [==============================] - 20s 44ms/step - loss: 0.5910 - accuracy: 0.7840 - val_loss: 0.5774 - val_accuracy: 0.6824\n",
      "\n",
      "Epoch 00190: val_loss did not improve from 0.05310\n",
      "Epoch 191/200\n",
      "449/448 [==============================] - 20s 44ms/step - loss: 0.5831 - accuracy: 0.7848 - val_loss: 0.9523 - val_accuracy: 0.6771\n",
      "\n",
      "Epoch 00191: val_loss did not improve from 0.05310\n",
      "Epoch 192/200\n",
      "449/448 [==============================] - 20s 44ms/step - loss: 0.5790 - accuracy: 0.7862 - val_loss: 0.4859 - val_accuracy: 0.6790\n",
      "\n",
      "Epoch 00192: val_loss did not improve from 0.05310\n",
      "Epoch 193/200\n",
      "449/448 [==============================] - 19s 43ms/step - loss: 0.5719 - accuracy: 0.7890 - val_loss: 0.0649 - val_accuracy: 0.6860\n",
      "\n",
      "Epoch 00193: val_loss did not improve from 0.05310\n",
      "Epoch 194/200\n",
      "449/448 [==============================] - 20s 44ms/step - loss: 0.5682 - accuracy: 0.7919 - val_loss: 1.1099 - val_accuracy: 0.6851\n",
      "\n",
      "Epoch 00194: val_loss did not improve from 0.05310\n",
      "Epoch 195/200\n",
      "449/448 [==============================] - 20s 44ms/step - loss: 0.5698 - accuracy: 0.7917 - val_loss: 0.5114 - val_accuracy: 0.6779\n",
      "\n",
      "Epoch 00195: val_loss did not improve from 0.05310\n",
      "Epoch 196/200\n",
      "449/448 [==============================] - 20s 44ms/step - loss: 0.5716 - accuracy: 0.7890 - val_loss: 0.3931 - val_accuracy: 0.6807\n",
      "\n",
      "Epoch 00196: val_loss did not improve from 0.05310\n",
      "Epoch 197/200\n",
      "449/448 [==============================] - 20s 44ms/step - loss: 0.5632 - accuracy: 0.7929 - val_loss: 0.5733 - val_accuracy: 0.6821\n",
      "\n",
      "Epoch 00197: val_loss did not improve from 0.05310\n",
      "Epoch 198/200\n",
      "449/448 [==============================] - 20s 44ms/step - loss: 0.5679 - accuracy: 0.7915 - val_loss: 0.3613 - val_accuracy: 0.6776\n",
      "\n",
      "Epoch 00198: val_loss did not improve from 0.05310\n",
      "Epoch 199/200\n",
      "449/448 [==============================] - 20s 44ms/step - loss: 0.5768 - accuracy: 0.7902 - val_loss: 0.6994 - val_accuracy: 0.6835\n",
      "\n",
      "Epoch 00199: val_loss did not improve from 0.05310\n",
      "Epoch 200/200\n",
      "449/448 [==============================] - 20s 44ms/step - loss: 0.5638 - accuracy: 0.7952 - val_loss: 0.8401 - val_accuracy: 0.6840\n",
      "\n",
      "Epoch 00200: val_loss did not improve from 0.05310\n"
     ]
    }
   ],
   "source": [
    "num_epochs = 200 # we iterate 200 times over the entire training set \n",
    "history = model.fit(train_flow, \n",
    "                    steps_per_epoch=len(X_train) / batch_size, \n",
    "                    epochs=num_epochs,  \n",
    "                    verbose=1,  \n",
    "                    callbacks=callbacks_list,\n",
    "                    validation_data=val_flow,  \n",
    "                    validation_steps=len(X_val) / batch_size) "
   ]
  },
  {
   "cell_type": "code",
   "execution_count": 29,
   "metadata": {},
   "outputs": [
    {
     "data": {
      "text/plain": [
       "dict_keys(['val_loss', 'val_accuracy', 'loss', 'accuracy'])"
      ]
     },
     "execution_count": 29,
     "metadata": {},
     "output_type": "execute_result"
    }
   ],
   "source": [
    "history_dict = history.history\n",
    "history_dict.keys()"
   ]
  },
  {
   "cell_type": "code",
   "execution_count": 30,
   "metadata": {},
   "outputs": [
    {
     "data": {
      "text/plain": [
       "<Figure size 432x288 with 0 Axes>"
      ]
     },
     "execution_count": 30,
     "metadata": {},
     "output_type": "execute_result"
    },
    {
     "data": {
      "image/png": "[encoded data removed]",
      "text/plain": [
       "<Figure size 432x288 with 1 Axes>"
      ]
     },
     "metadata": {
      "needs_background": "light"
     },
     "output_type": "display_data"
    },
    {
     "data": {
      "image/png": "[encoded data removed]",
      "text/plain": [
       "<Figure size 432x288 with 1 Axes>"
      ]
     },
     "metadata": {
      "needs_background": "light"
     },
     "output_type": "display_data"
    },
    {
     "data": {
      "text/plain": [
       "<Figure size 432x288 with 0 Axes>"
      ]
     },
     "metadata": {},
     "output_type": "display_data"
    }
   ],
   "source": [
    "%matplotlib inline\n",
    "\n",
    "train_loss=history.history['loss']\n",
    "val_loss=history.history['val_loss']\n",
    "train_acc=history.history['accuracy']\n",
    "val_acc=history.history['val_accuracy']\n",
    "\n",
    "epochs = range(len(train_acc))\n",
    "\n",
    "plt.plot(epochs,train_loss,'r', label='train_loss')\n",
    "plt.plot(epochs,val_loss,'b', label='val_loss')\n",
    "plt.title('train_loss vs val_loss')\n",
    "plt.xlabel('epoch')\n",
    "plt.ylabel('loss')\n",
    "plt.legend()\n",
    "plt.figure()\n",
    "\n",
    "plt.plot(epochs,train_acc,'r', label='train_acc')\n",
    "plt.plot(epochs,val_acc,'b', label='val_acc')\n",
    "plt.title('train_acc vs val_acc')\n",
    "plt.xlabel('epoch')\n",
    "plt.ylabel('accuracy')\n",
    "plt.legend()\n",
    "plt.figure()"
   ]
  },
  {
   "cell_type": "code",
   "execution_count": 31,
   "metadata": {},
   "outputs": [],
   "source": [
    "model.save('emo_model_v1.h5') "
   ]
  },
  {
   "cell_type": "code",
   "execution_count": 17,
   "metadata": {},
   "outputs": [
    {
     "name": "stdout",
     "output_type": "stream",
     "text": [
      "(3589, 48, 48, 1)\n"
     ]
    }
   ],
   "source": [
    "print(X_test.shape)"
   ]
  },
  {
   "cell_type": "code",
   "execution_count": 19,
   "metadata": {},
   "outputs": [],
   "source": [
    "from tensorflow.keras.models import load_model"
   ]
  },
  {
   "cell_type": "code",
   "execution_count": 20,
   "metadata": {},
   "outputs": [
    {
     "name": "stdout",
     "output_type": "stream",
     "text": [
      "Model: \"model_1\"\n",
      "_________________________________________________________________\n",
      "Layer (type)                 Output Shape              Param #   \n",
      "=================================================================\n",
      "input (InputLayer)           [(None, 48, 48, 1)]       0         \n",
      "_________________________________________________________________\n",
      "conv1_1 (Conv2D)             (None, 48, 48, 32)        320       \n",
      "_________________________________________________________________\n",
      "conv1_2 (Conv2D)             (None, 48, 48, 64)        18496     \n",
      "_________________________________________________________________\n",
      "pool1_1 (MaxPooling2D)       (None, 24, 24, 64)        0         \n",
      "_________________________________________________________________\n",
      "drop1_1 (Dropout)            (None, 24, 24, 64)        0         \n",
      "_________________________________________________________________\n",
      "conv2_1 (Conv2D)             (None, 24, 24, 128)       73856     \n",
      "_________________________________________________________________\n",
      "pool2_1 (MaxPooling2D)       (None, 12, 12, 128)       0         \n",
      "_________________________________________________________________\n",
      "conv2_2 (Conv2D)             (None, 12, 12, 128)       147584    \n",
      "_________________________________________________________________\n",
      "pool2_2 (MaxPooling2D)       (None, 6, 6, 128)         0         \n",
      "_________________________________________________________________\n",
      "drop2_1 (Dropout)            (None, 6, 6, 128)         0         \n",
      "_________________________________________________________________\n",
      "flatten (Flatten)            (None, 4608)              0         \n",
      "_________________________________________________________________\n",
      "dense3_1 (Dense)             (None, 1024)              4719616   \n",
      "_________________________________________________________________\n",
      "drop3_1 (Dropout)            (None, 1024)              0         \n",
      "_________________________________________________________________\n",
      "output (Dense)               (None, 7)                 7175      \n",
      "=================================================================\n",
      "Total params: 4,967,047\n",
      "Trainable params: 4,967,047\n",
      "Non-trainable params: 0\n",
      "_________________________________________________________________\n"
     ]
    }
   ],
   "source": [
    "model = load_model('emo_model_v1.h5')\n",
    "model.summary()"
   ]
  },
  {
   "cell_type": "code",
   "execution_count": 21,
   "metadata": {},
   "outputs": [],
   "source": [
    "def plot_confusion_matrix(y_test, y_pred, classes,\n",
    "                          normalize=False,\n",
    "                          title='Unnormalized confusion matrix',\n",
    "                          cmap=plt.cm.Blues):\n",
    "    cm = confusion_matrix(y_test, y_pred)\n",
    "    \n",
    "    if normalize:\n",
    "        cm = np.round(cm.astype('float') / cm.sum(axis=1)[:, np.newaxis], 2)\n",
    "        \n",
    "    np.set_printoptions(precision=2)\n",
    "        \n",
    "    plt.imshow(cm, interpolation='nearest', cmap=cmap)\n",
    "    plt.title(title)\n",
    "    plt.colorbar()\n",
    "    tick_marks = np.arange(len(classes))\n",
    "    plt.xticks(tick_marks, classes, rotation=45)\n",
    "    plt.yticks(tick_marks, classes)\n",
    "\n",
    "    thresh = cm.min() + (cm.max() - cm.min()) / 2.\n",
    "    for i, j in itertools.product(range(cm.shape[0]), range(cm.shape[1])):\n",
    "        plt.text(j, i, cm[i, j],\n",
    "                 horizontalalignment=\"center\",\n",
    "                 color=\"white\" if cm[i, j] > thresh else \"black\")\n",
    "\n",
    "    plt.tight_layout()\n",
    "    plt.ylabel('True expression')\n",
    "    plt.xlabel('Predicted expression')\n",
    "    plt.show()\n"
   ]
  },
  {
   "cell_type": "code",
   "execution_count": 26,
   "metadata": {},
   "outputs": [
    {
     "name": "stdout",
     "output_type": "stream",
     "text": [
      "3589/3589 [==============================] - 1s 239us/sample\n"
     ]
    }
   ],
   "source": [
    "y_pred_ = model.predict(X_test/255., verbose=1)\n",
    "y_pred = np.argmax(y_pred_, axis=1)\n",
    "t_te = np.argmax(y_test, axis=1)"
   ]
  },
  {
   "cell_type": "code",
   "execution_count": 27,
   "metadata": {},
   "outputs": [
    {
     "data": {
      "image/png": "[encoded data removed]",
      "text/plain": [
       "<Figure size 432x288 with 2 Axes>"
      ]
     },
     "metadata": {
      "needs_background": "light"
     },
     "output_type": "display_data"
    }
   ],
   "source": [
    "fig = plot_confusion_matrix(y_test=t_te, y_pred=y_pred,\n",
    "                      classes=classes,\n",
    "                      normalize=True,\n",
    "                      cmap=plt.cm.Greys,\n",
    "                      title='Average accuracy: ' + str(np.sum(y_pred == t_te)/len(t_te)) + '\\n')"
   ]
  },
  {
   "cell_type": "code",
   "execution_count": null,
   "metadata": {},
   "outputs": [],
   "source": []
  }
 ],
 "metadata": {
  "kernelspec": {
   "display_name": "Environment (conda_tensorflow2_p36)",
   "language": "python",
   "name": "conda_tensorflow2_p36"
  },
  "language_info": {
   "codemirror_mode": {
    "name": "ipython",
    "version": 3
   },
   "file_extension": ".py",
   "mimetype": "text/x-python",
   "name": "python",
   "nbconvert_exporter": "python",
   "pygments_lexer": "ipython3",
   "version": "3.6.10"
  }
 },
 "nbformat": 4,
 "nbformat_minor": 4
}
