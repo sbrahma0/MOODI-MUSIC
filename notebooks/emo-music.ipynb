{
 "cells": [
  {
   "cell_type": "code",
   "execution_count": 1,
   "metadata": {},
   "outputs": [],
   "source": [
    "import pandas as pd\n",
    "import random\n",
    "import glob\n",
    "import librosa\n",
    "import IPython.display as ipd"
   ]
  },
  {
   "cell_type": "code",
   "execution_count": 2,
   "metadata": {},
   "outputs": [],
   "source": [
    "def helper(gener):\n",
    "    \n",
    "    pop = glob.glob(\"pop.csv\")\n",
    "    country = glob.glob(\"country.csv\")\n",
    "    disco = glob.glob(\"disco.csv\")\n",
    "    blues = glob.glob(\"blues.csv\")\n",
    "    reggae = glob.glob(\"reggae.csv\")\n",
    "    jazz = glob.glob(\"jazz.csv\")\n",
    "    metal = glob.glob(\"metal.csv\")\n",
    "    hiphop = glob.glob(\"hiphop.csv\")\n",
    "    classical = glob.glob(\"classical.csv\")\n",
    "    rock = glob.glob(\"rock.csv\")\n",
    "\n",
    "    rand_genere = random.choice(gener)[0]\n",
    "\n",
    "    print(rand_genere)\n",
    "\n",
    "    final_gener = pd.read_csv(rand_genere)\n",
    "    li = final_gener.sample(5)\n",
    "    li = li.values.tolist()\n",
    "\n",
    "    sample = 'Music-Genere/Data/genres_original/' + rand_genere[:-4] + '/'\n",
    "\n",
    "    audio_list=[]\n",
    "\n",
    "    for i in range(5):\n",
    "        y, sr = librosa.load(sample+li[i][0],sr=5000, offset=0.0, duration=30)\n",
    "        audio_list.append(y)\n",
    "\n",
    "    for i in audio_list:\n",
    "        ipd.display(ipd.Audio(i,rate=7000))"
   ]
  },
  {
   "cell_type": "code",
   "execution_count": 3,
   "metadata": {},
   "outputs": [],
   "source": [
    "def emo_to_music(emotion = \"happy\"):\n",
    "    if emotion == \"happy\":\n",
    "        gener = [country,disco,pop,hiphop]\n",
    "    elif emotion == \"sad\":\n",
    "        gener = [blues,jazz,classical]\n",
    "    elif emotion == \"Angry\":\n",
    "        gener = [metal,rock]\n",
    "    elif emotion == \"Disgust\":\n",
    "        gener = [raggae,metal,rock]\n",
    "    elif emotion == \"Fear\":\n",
    "        gener = [blues,jazz,classical,metal,rock]\n",
    "    elif emotion == \"Surprise\":\n",
    "        gener = [disco,hiphop]\n",
    "    elif emotion == \"Neutral\":\n",
    "        gener = [metal,rock]\n",
    "    \n",
    "    helper(gener)"
   ]
  },
  {
   "cell_type": "code",
   "execution_count": 4,
   "metadata": {},
   "outputs": [
    {
     "ename": "NameError",
     "evalue": "name 'blues' is not defined",
     "output_type": "error",
     "traceback": [
      "\u001b[0;31m---------------------------------------------------------------------------\u001b[0m",
      "\u001b[0;31mNameError\u001b[0m                                 Traceback (most recent call last)",
      "\u001b[0;32m<ipython-input-4-cb9e9aadc582>\u001b[0m in \u001b[0;36m<module>\u001b[0;34m\u001b[0m\n\u001b[0;32m----> 1\u001b[0;31m \u001b[0memo_to_music\u001b[0m\u001b[0;34m(\u001b[0m\u001b[0;34m\"sad\"\u001b[0m\u001b[0;34m)\u001b[0m\u001b[0;34m\u001b[0m\u001b[0;34m\u001b[0m\u001b[0m\n\u001b[0m",
      "\u001b[0;32m<ipython-input-3-acf89f476773>\u001b[0m in \u001b[0;36memo_to_music\u001b[0;34m(emotion)\u001b[0m\n\u001b[1;32m      3\u001b[0m         \u001b[0mgener\u001b[0m \u001b[0;34m=\u001b[0m \u001b[0;34m[\u001b[0m\u001b[0mcountry\u001b[0m\u001b[0;34m,\u001b[0m\u001b[0mdisco\u001b[0m\u001b[0;34m,\u001b[0m\u001b[0mpop\u001b[0m\u001b[0;34m,\u001b[0m\u001b[0mhiphop\u001b[0m\u001b[0;34m]\u001b[0m\u001b[0;34m\u001b[0m\u001b[0;34m\u001b[0m\u001b[0m\n\u001b[1;32m      4\u001b[0m     \u001b[0;32melif\u001b[0m \u001b[0memotion\u001b[0m \u001b[0;34m==\u001b[0m \u001b[0;34m\"sad\"\u001b[0m\u001b[0;34m:\u001b[0m\u001b[0;34m\u001b[0m\u001b[0;34m\u001b[0m\u001b[0m\n\u001b[0;32m----> 5\u001b[0;31m         \u001b[0mgener\u001b[0m \u001b[0;34m=\u001b[0m \u001b[0;34m[\u001b[0m\u001b[0mblues\u001b[0m\u001b[0;34m,\u001b[0m\u001b[0mjazz\u001b[0m\u001b[0;34m,\u001b[0m\u001b[0mclassical\u001b[0m\u001b[0;34m]\u001b[0m\u001b[0;34m\u001b[0m\u001b[0;34m\u001b[0m\u001b[0m\n\u001b[0m\u001b[1;32m      6\u001b[0m     \u001b[0;32melif\u001b[0m \u001b[0memotion\u001b[0m \u001b[0;34m==\u001b[0m \u001b[0;34m\"Angry\"\u001b[0m\u001b[0;34m:\u001b[0m\u001b[0;34m\u001b[0m\u001b[0;34m\u001b[0m\u001b[0m\n\u001b[1;32m      7\u001b[0m         \u001b[0mgener\u001b[0m \u001b[0;34m=\u001b[0m \u001b[0;34m[\u001b[0m\u001b[0mmetal\u001b[0m\u001b[0;34m,\u001b[0m\u001b[0mrock\u001b[0m\u001b[0;34m]\u001b[0m\u001b[0;34m\u001b[0m\u001b[0;34m\u001b[0m\u001b[0m\n",
      "\u001b[0;31mNameError\u001b[0m: name 'blues' is not defined"
     ]
    }
   ],
   "source": [
    "emo_to_music(\"sad\")"
   ]
  },
  {
   "cell_type": "code",
   "execution_count": null,
   "metadata": {},
   "outputs": [],
   "source": []
  }
 ],
 "metadata": {
  "kernelspec": {
   "display_name": "Environment (conda_insight2)",
   "language": "python",
   "name": "conda_insight2"
  },
  "language_info": {
   "codemirror_mode": {
    "name": "ipython",
    "version": 3
   },
   "file_extension": ".py",
   "mimetype": "text/x-python",
   "name": "python",
   "nbconvert_exporter": "python",
   "pygments_lexer": "ipython3",
   "version": "3.6.10"
  }
 },
 "nbformat": 4,
 "nbformat_minor": 4
}
